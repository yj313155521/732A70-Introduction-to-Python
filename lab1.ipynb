{
 "cells": [
  {
   "cell_type": "markdown",
   "metadata": {},
   "source": [
    "# Lab 1: Python basics"
   ]
  },
  {
   "cell_type": "markdown",
   "metadata": {},
   "source": [
    "__Student I:__ siyli424 (Siyu Liu)\n",
    "\n",
    "__Student II:__ jinya425 (Jin Yan)"
   ]
  },
  {
   "cell_type": "markdown",
   "metadata": {},
   "source": [
    "### A word of caution\n",
    "\n",
    "There are currently two versions of Python in common use, Python 2 and Python 3, which are not 100% compatible. Python 2 is slowly being phased out but has a large enough install base to still be relevant. This course uses the more modern Python 3 but while searching for help online it is not uncommon to find help for Python 2. Especially older posts on sources such as Stack Exchange might refer to Python 2 as simply \"Python\". This should not cause any serious problems but keep it in mind whenever googling. With regards to this lab, the largest differences are how `print` works and the best practice recommendations for string formatting."
   ]
  },
  {
   "cell_type": "markdown",
   "metadata": {},
   "source": [
    "### References to R\n",
    "\n",
    "Most students taking this course who are not already familiar with Python will probably have some experience of the R programming language. For this reason, there will be intermittent references to R throughout this lab. For those of you with a background in R (or MATLAB/Octave, or Julia) the most important thing to remember is that indexing starts at 0, not at 1."
   ]
  },
  {
   "cell_type": "markdown",
   "metadata": {},
   "source": [
    "### Recommended Reading\n",
    "\n",
    "This course is not built on any specific source and no specific litterature is required. However, for those who prefer to have a printed reference book, we recommended the books by Mark Lutz:\n",
    "\n",
    "* Learning Python by Mark Lutz, 5th edition, O'Reilly. Recommended for those who have no experience of Python. This book is called LP in the text below.\n",
    "\n",
    "* Programming Python by Mark Lutz, 4th edition, O'Reilly. Recommended for those who have some experience with Python, it generally covers more advanced topics than what is included in this course but gives you a chance to dig a bit deeper if you're already comfortable with the basics. This book is called PP in the text.\n",
    "\n",
    "For the student interested in Python as a language, it is worth mentioning\n",
    "* Fluent Python by Luciano Ramalho (also O'Reilly). Note that it is - at the time of writing - still in its first edition, from 2015. Thus newer features will be missing."
   ]
  },
  {
   "cell_type": "markdown",
   "metadata": {},
   "source": [
    "### A note about notebooks\n",
    "\n",
    "When using this notebook, you can enter python code in the empty cells, then press ctrl-enter. The code in the cell is executed and if any output occurs it will be displayed below the square. Code executed in this manner will use the same environment regardless of where in the notebook document it is placed. This means that variables and functions assigned values in one cell will thereafter be accessible from all other cells in your notebook session.\n",
    "\n",
    "Note that the programming environments described in section 1 of LP is not applicable when you run python in this notebook."
   ]
  },
  {
   "cell_type": "markdown",
   "metadata": {},
   "source": [
    "### A note about the structure of this lab\n",
    "\n",
    "This lab will contain tasks of varying difficulty. There might be cases when the solution seems too simple to be true (in retrospect), and cases where you have seen similar material elsewhere in the course. Don't be fooled by this. In many cases, the task might just serve to remind us of things that are worthwhile to check out, or to find out how to use a specific method.\n",
    "\n",
    "We will be returning to, and using, several of the concepts in this lab."
   ]
  },
  {
   "cell_type": "markdown",
   "metadata": {},
   "source": [
    "### 1. Strings and string handling\n",
    "\n",
    "The primary datatype for storing raw text in Python is the string. Note that there is no character datatype, only strings of length 1. This can be compared to how there are no atomic numbers in R, only vectors of length 1. A reference to the string datatype can be found __[here](https://docs.python.org/3/library/stdtypes.html#text-sequence-type-str)__.\n",
    "\n",
    "[Litterature: LP: Part II, especially Chapter 4, 7.]"
   ]
  },
  {
   "cell_type": "markdown",
   "metadata": {},
   "source": [
    "a) Define the variable `parrot` as the string containing the sentence _It is dead, that is what is wrong with it. This is an ex-\"Parrot\"!_. \n",
    "\n",
    "[Note: If you have been programming in a language such as C or Java, you might be a bit confused about the term \"define\". Different languages use different terms when creating variables, such as \"define\", \"declare\", \"initialize\", etc. with slightly different meanings. In statically typed languages such as C or Java, declaring a variable creates a name connected to a container which can contain data of a specific type, but does not put a value in that container. Initialization is then the act of putting an initial value in such a container. Defining a variable is often used as a synonym to declaring a variable in statically typed languages but as Python is dynamically typed, i.e. variables can contain values of any type, there is no need to declare variables before initializing them. Thus, defining a variable in python entails simply assigning a value to a new name, at which point the variable is both declared and initialized. This works exactly as in R.]"
   ]
  },
  {
   "cell_type": "code",
   "execution_count": 1,
   "metadata": {},
   "outputs": [],
   "source": [
    "parrot = 'It is dead, that is what is wrong with it. This is an ex-\"Parrot\"!'"
   ]
  },
  {
   "cell_type": "markdown",
   "metadata": {},
   "source": [
    "b) What methods does the string now called `parrot` (or indeed any string) seem to support? Write Python commands below to find out."
   ]
  },
  {
   "cell_type": "code",
   "execution_count": 2,
   "metadata": {},
   "outputs": [
    {
     "name": "stdout",
     "output_type": "stream",
     "text": [
      "['__add__', '__class__', '__contains__', '__delattr__', '__dir__', '__doc__', '__eq__', '__format__', '__ge__', '__getattribute__', '__getitem__', '__getnewargs__', '__getstate__', '__gt__', '__hash__', '__init__', '__init_subclass__', '__iter__', '__le__', '__len__', '__lt__', '__mod__', '__mul__', '__ne__', '__new__', '__reduce__', '__reduce_ex__', '__repr__', '__rmod__', '__rmul__', '__setattr__', '__sizeof__', '__str__', '__subclasshook__', 'capitalize', 'casefold', 'center', 'count', 'encode', 'endswith', 'expandtabs', 'find', 'format', 'format_map', 'index', 'isalnum', 'isalpha', 'isascii', 'isdecimal', 'isdigit', 'isidentifier', 'islower', 'isnumeric', 'isprintable', 'isspace', 'istitle', 'isupper', 'join', 'ljust', 'lower', 'lstrip', 'maketrans', 'partition', 'removeprefix', 'removesuffix', 'replace', 'rfind', 'rindex', 'rjust', 'rpartition', 'rsplit', 'rstrip', 'split', 'splitlines', 'startswith', 'strip', 'swapcase', 'title', 'translate', 'upper', 'zfill']\n"
     ]
    }
   ],
   "source": [
    "print(dir(parrot))"
   ]
  },
  {
   "cell_type": "markdown",
   "metadata": {},
   "source": [
    "c) Count the number of characters (letters, blank space, commas, periods\n",
    "etc) in the sentence."
   ]
  },
  {
   "cell_type": "code",
   "execution_count": 3,
   "metadata": {},
   "outputs": [
    {
     "name": "stdout",
     "output_type": "stream",
     "text": [
      "66\n"
     ]
    }
   ],
   "source": [
    "print(len(parrot))"
   ]
  },
  {
   "cell_type": "markdown",
   "metadata": {},
   "source": [
    "d) If we type `parrot + parrot`, should it change the string itself, or merely produce a new string? How would you test your intuition? Write expressions below."
   ]
  },
  {
   "cell_type": "code",
   "execution_count": 5,
   "metadata": {},
   "outputs": [
    {
     "name": "stdout",
     "output_type": "stream",
     "text": [
      "False\n"
     ]
    }
   ],
   "source": [
    "print(parrot is (parrot + parrot))"
   ]
  },
  {
   "cell_type": "markdown",
   "metadata": {},
   "source": [
    "e) Separate the sentence into a list of words (possibly including separators) using a built-in method. Call the list `parrot_words`."
   ]
  },
  {
   "cell_type": "code",
   "execution_count": 6,
   "metadata": {},
   "outputs": [
    {
     "name": "stdout",
     "output_type": "stream",
     "text": [
      "['It', 'is', 'dead,', 'that', 'is', 'what', 'is', 'wrong', 'with', 'it.', 'This', 'is', 'an', 'ex-\"Parrot\"!']\n"
     ]
    }
   ],
   "source": [
    "parrot_words = parrot.split(' ')\n",
    "print(parrot_words)"
   ]
  },
  {
   "cell_type": "markdown",
   "metadata": {},
   "source": [
    "f) Merge (concatenate) `parrot_words` into a string again."
   ]
  },
  {
   "cell_type": "code",
   "execution_count": 7,
   "metadata": {},
   "outputs": [
    {
     "name": "stdout",
     "output_type": "stream",
     "text": [
      "It is dead, that is what is wrong with it. This is an ex-\"Parrot\"!\n"
     ]
    }
   ],
   "source": [
    "print(' '.join(parrot_words))"
   ]
  },
  {
   "cell_type": "markdown",
   "metadata": {},
   "source": [
    "g) Create a string `parrot_info` which consists of \"The length of parrot_info is 66.\" (the length of the string should be calculated automatically, and you may not write any numbers in the string). Use f-string syntax!"
   ]
  },
  {
   "cell_type": "code",
   "execution_count": 8,
   "metadata": {},
   "outputs": [
    {
     "name": "stdout",
     "output_type": "stream",
     "text": [
      "The length of parrot_info is 66.\n"
     ]
    }
   ],
   "source": [
    "parrot_info = f'The length of parrot_info is {len(parrot)}.'\n",
    "print(parrot_info)\n"
   ]
  },
  {
   "cell_type": "markdown",
   "metadata": {},
   "source": [
    "### 2. Iteration, sequences and string formatting\n",
    "\n",
    "Loops are not as painfully slow in Python as they are in R and thus, not as critical to avoid. However, for many use cases, _comprehensions_, like _list comprehensions_ or _dict comprehensions_ are faster. In this assignment we will see both traditional loop constructs and comprehensions. For an introduction to comprehensions, __[this](https://python-3-patterns-idioms-test.readthedocs.io/en/latest/Comprehensions.html)__ might be a good place to start.\n",
    "\n",
    "It should also be noted that what Python calls lists are unnamed sequences. As in R, a Python list can contain elements of many types, however, these can only be accessed by indexing or sequence, not by name as in R."
   ]
  },
  {
   "cell_type": "markdown",
   "metadata": {},
   "source": [
    "a) Write a `for`-loop that produces the following output on the screen:<br>\n",
    "> `The next number in the loop is 5`<br>\n",
    "> `The next number in the loop is 6`<br>\n",
    "> ...<br>\n",
    "> `The next number in the loop is 10`<br>\n",
    "\n",
    "[Hint: the `range` function has more than one argument.]<br>\n",
    "[Literature: For the range construct see LP part II chapter 4 (p.112).]"
   ]
  },
  {
   "cell_type": "code",
   "execution_count": 9,
   "metadata": {},
   "outputs": [
    {
     "name": "stdout",
     "output_type": "stream",
     "text": [
      "The next number in the loop is 5\n",
      "The next number in the loop is 6\n",
      "The next number in the loop is 7\n",
      "The next number in the loop is 8\n",
      "The next number in the loop is 9\n",
      "The next number in the loop is 10\n"
     ]
    }
   ],
   "source": [
    "for i in range(5, 11):\n",
    "    print(f'The next number in the loop is {i}')"
   ]
  },
  {
   "cell_type": "markdown",
   "metadata": {},
   "source": [
    "b) Write a `for`-loop that for a given`n` sets `first_n_squared` to the sum of squares of the first `n` numbers (0..n-1). Call the iteration variable `i`."
   ]
  },
  {
   "cell_type": "code",
   "execution_count": 10,
   "metadata": {},
   "outputs": [
    {
     "name": "stdout",
     "output_type": "stream",
     "text": [
      "285\n"
     ]
    }
   ],
   "source": [
    "n = 10\n",
    "first_n_squared = 0\n",
    "for i in range(n):\n",
    "    first_n_squared += i**2\n",
    "\n",
    "print(first_n_squared)"
   ]
  },
  {
   "cell_type": "markdown",
   "metadata": {},
   "source": [
    "Hint (not mandatory): iteration is often about a gradual procedure of updating or computing. Write out, on paper, how you would compute $0^2$, $0^2 + 1^2$, $0^2 + 1^2 + 2^2$, and consider what kinds of gradual updates you might want to perform."
   ]
  },
  {
   "cell_type": "markdown",
   "metadata": {},
   "source": [
    "c) It is often worth considering what a piece of code actually contributes. Think about a single loop iteration (when we go through the body of the loop). What should the variable `first_n_squared` contain _before_ a loop iteration? What should the loop iteration contribute? What does it contain _after_ ? A sentence or two for each is enough. Write this as a code comment in the box below:"
   ]
  },
  {
   "cell_type": "markdown",
   "metadata": {},
   "source": [
    "<b> Lecturer's comment </b> There is confusion between \"a loop\" and \"a loop iteration\". The variable `first_n_squared` should be 0 before the <b> first </b> iteration, but not before the subsequent ones. Also, you should specify what <b> one </b> iteration contributes to `first_n_squared`, for example for a generic iteration `i`. Please explain again."
   ]
  },
  {
   "attachments": {},
   "cell_type": "markdown",
   "metadata": {},
   "source": [
    "- Before a loop iteration `i`, first_n_squared = $\\sum_{x=0}^{i-1} x^2$\n",
    "- During a loop iteration `i`, first_n_squared = $\\sum_{x=0}^{i-1} x^2 + i^2$, the loop contributes $i^2$.\n",
    "- After a loop iteration `i`, first_n_squared = $\\sum_{x=0}^{i} x^2$"
   ]
  },
  {
   "cell_type": "markdown",
   "metadata": {},
   "source": [
    "Hint: \n",
    "* Your answer might involve the iteration variable `i` (informally: the current number we're looking at in the loop).\n",
    "* After all the loop iterations are done (and your iteration variable has reached _n - 1_ ), it should contain the sum $0^2 + 1^2 + ... + (n-1)^2$. Does your explanation suggest that this should be the case?"
   ]
  },
  {
   "cell_type": "markdown",
   "metadata": {},
   "source": [
    "[Tangent: this form of reasoning can form the basis of a mathematical correctness proof for algorithms, that enables us to formally check that code does what it should. This is quite beyond the scope of this course, but the (CS-)interested reader might want to consider reading up on eg [loop invariants](https://en.wikipedia.org/wiki/Loop_invariant), We only go into it at the level of detail that actually forces us to think about what our (simple) code does.]"
   ]
  },
  {
   "cell_type": "markdown",
   "metadata": {},
   "source": [
    "d) Write a code snippet that counts the number of __letters__ (alphabetic characters) in `parrot` (as defined above). Use a `for` loop."
   ]
  },
  {
   "cell_type": "code",
   "execution_count": 12,
   "metadata": {},
   "outputs": [
    {
     "name": "stdout",
     "output_type": "stream",
     "text": [
      "47\n"
     ]
    }
   ],
   "source": [
    "alpha_count = 0\n",
    "for c in parrot:\n",
    "    alpha_count += 1 if c.isalpha() else 0\n",
    "\n",
    "print(alpha_count)"
   ]
  },
  {
   "cell_type": "markdown",
   "metadata": {},
   "source": [
    "e) Explain your letter-counting code in the same terms as above (before, after, contributed)."
   ]
  },
  {
   "cell_type": "markdown",
   "metadata": {},
   "source": [
    "<b> Lecturer's comment: </b> Same remark as above. Also, note that one iteration contributes different things depending on a specific condition. Please reexplain."
   ]
  },
  {
   "attachments": {},
   "cell_type": "markdown",
   "metadata": {},
   "source": [
    "- Before a loop iteration `i`, alpha_count = $\\sum_{x=0}^{i-1} 1_{\\text{is alphabetic}}(x)$, where $1_{\\text{is alphabetic}}(x)$ is 1 if the character at position `x` is alphabetic, and 0 otherwise.\n",
    "- A loop iteration `i` contributes 1 to alpha_count if the character at position `i` is alphabetic, and 0 otherwise.\n",
    "- After a loop iteration `i`, alpha_count = $\\sum_{x=0}^{i} 1_{\\text{is alphabetic}}(x)$"
   ]
  },
  {
   "cell_type": "markdown",
   "metadata": {},
   "source": [
    "f) Write a for-loop that iterates over the list `names` below and presents them on the screen in the following fashion:\n",
    "\n",
    "> `The name Tesco is nice`<br>\n",
    "> ...<br>\n",
    "> `The name Zeno is nice`<br>\n",
    "\n",
    "Use Python's string formatting capabilities (the `format` function in the string class) to solve the problem.\n",
    "\n",
    "[Warning: The best practices for how to do string formatting differs from Python 2 and 3, make sure you use the Python 3 approach.]<br>\n",
    "[Literature: String formatting is covered in LP part II chapter 7.]"
   ]
  },
  {
   "cell_type": "code",
   "execution_count": 12,
   "metadata": {},
   "outputs": [
    {
     "name": "stdout",
     "output_type": "stream",
     "text": [
      "The name Tesco is nice\n",
      "The name Forex is nice\n",
      "The name Alonzo is nice\n",
      "The name Zeno is nice\n"
     ]
    }
   ],
   "source": [
    "names = ['Tesco', 'Forex', 'Alonzo', 'Zeno']\n",
    "\n",
    "for name in names:\n",
    "    print(\"The name {0} is nice\".format(name))"
   ]
  },
  {
   "cell_type": "markdown",
   "metadata": {},
   "source": [
    "g) Write a for-loop that iterates over the list `names` and produces the list `n_letters` (`[5,5,6,4]`) with the length of each name."
   ]
  },
  {
   "cell_type": "code",
   "execution_count": 16,
   "metadata": {},
   "outputs": [
    {
     "name": "stdout",
     "output_type": "stream",
     "text": [
      "[5, 5, 6, 4]\n"
     ]
    }
   ],
   "source": [
    "n_letters = list()\n",
    "for name in names:\n",
    "    n_letters.append(len(name))\n",
    "\n",
    "print(n_letters)"
   ]
  },
  {
   "cell_type": "markdown",
   "metadata": {},
   "source": [
    "h) How would you - in a Python interpreter/REPL or in this Notebook - retrieve the help for the built-in function `max`?"
   ]
  },
  {
   "cell_type": "code",
   "execution_count": 17,
   "metadata": {},
   "outputs": [
    {
     "name": "stdout",
     "output_type": "stream",
     "text": [
      "Help on built-in function max in module builtins:\n",
      "\n",
      "max(...)\n",
      "    max(iterable, *[, default=obj, key=func]) -> value\n",
      "    max(arg1, arg2, *args, *[, key=func]) -> value\n",
      "    \n",
      "    With a single iterable argument, return its biggest item. The\n",
      "    default keyword-only argument specifies an object to return if\n",
      "    the provided iterable is empty.\n",
      "    With two or more arguments, return the largest argument.\n",
      "\n"
     ]
    }
   ],
   "source": [
    "help(max)"
   ]
  },
  {
   "cell_type": "markdown",
   "metadata": {},
   "source": [
    "i) Show an example of how `max` can be used with an iterable of your choice."
   ]
  },
  {
   "cell_type": "code",
   "execution_count": 18,
   "metadata": {},
   "outputs": [
    {
     "data": {
      "text/plain": [
       "34"
      ]
     },
     "execution_count": 18,
     "metadata": {},
     "output_type": "execute_result"
    }
   ],
   "source": [
    "# find the max value in a int list\n",
    "max([9, 2, 34, 5, 23, 1])"
   ]
  },
  {
   "cell_type": "markdown",
   "metadata": {
    "collapsed": true
   },
   "source": [
    "j) Use a comprehension (or generator) to calculate the sum 0^2 + ... + (n-1)^2 as above."
   ]
  },
  {
   "cell_type": "code",
   "execution_count": 19,
   "metadata": {},
   "outputs": [
    {
     "name": "stdout",
     "output_type": "stream",
     "text": [
      "285\n"
     ]
    }
   ],
   "source": [
    "first_n_squared_2 = sum([x**2 for x in range(0,n)])\n",
    "\n",
    "print(first_n_squared_2)"
   ]
  },
  {
   "cell_type": "markdown",
   "metadata": {},
   "source": [
    "l) Use a list comprehension to produce a list `short_long` that indicates if the name (in the list `names`) has more than four letters. The answer should be `['long', 'long', 'long', 'short']`."
   ]
  },
  {
   "cell_type": "code",
   "execution_count": 14,
   "metadata": {},
   "outputs": [
    {
     "name": "stdout",
     "output_type": "stream",
     "text": [
      "['long', 'long', 'long', 'short']\n"
     ]
    }
   ],
   "source": [
    "short_long = ['long' if len(name) > 4 else 'short' for name in names]\n",
    "\n",
    "print(short_long)"
   ]
  },
  {
   "cell_type": "markdown",
   "metadata": {},
   "source": [
    "m) Use a comprehension to count the number of letters in `parrot`. You may not use a `for`-loop. (The comprehension will contain the word `for`, but it isn't a `for ... in ...:`-statement.)"
   ]
  },
  {
   "cell_type": "code",
   "execution_count": 21,
   "metadata": {},
   "outputs": [
    {
     "name": "stdout",
     "output_type": "stream",
     "text": [
      "47\n"
     ]
    }
   ],
   "source": [
    "alpha_count_2 = sum([1 if c.isalpha() else 0 for c in parrot])\n",
    "\n",
    "print(alpha_count_2)"
   ]
  },
  {
   "cell_type": "markdown",
   "metadata": {},
   "source": [
    "[Note: this is fairly similar to the long/short task, but note how we access member functions of the values.]"
   ]
  },
  {
   "cell_type": "markdown",
   "metadata": {},
   "source": [
    "n) Below we have the string `datadump`. Retrieve the substring string starting at character 27 (that is \"o\") and ending at character 34 (\"l\") by means of slicing."
   ]
  },
  {
   "cell_type": "code",
   "execution_count": 22,
   "metadata": {},
   "outputs": [
    {
     "name": "stdout",
     "output_type": "stream",
     "text": [
      "old html\n"
     ]
    }
   ],
   "source": [
    "datadump = \"The name of the game is <b>old html</b>. That is <b>so cool</b>.\"\n",
    "\n",
    "print(datadump[27:35])"
   ]
  },
  {
   "cell_type": "markdown",
   "metadata": {},
   "source": [
    "o) Write a loop that uses indices to __simultaneously__ loop over the lists `names` and `short_long` to write the following to the screen:\n",
    "\n",
    "> `The name Tesco is a long name`<br>\n",
    "> ...<br>\n",
    "> `The name Zeno is a short name`<br>"
   ]
  },
  {
   "cell_type": "code",
   "execution_count": 23,
   "metadata": {},
   "outputs": [
    {
     "name": "stdout",
     "output_type": "stream",
     "text": [
      "The name Tesco is a long name\n",
      "The name Forex is a long name\n",
      "The name Alonzo is a long name\n",
      "The name Zeno is a short name\n"
     ]
    }
   ],
   "source": [
    "for i in range(len(names)):\n",
    "    print(f'The name {names[i]} is a {short_long[i]} name')"
   ]
  },
  {
   "cell_type": "markdown",
   "metadata": {},
   "source": [
    "Note: this is a common programming pattern, though not particularly Pythonic in this use case. We do however need to know how to use indices in lists to work properly with Python."
   ]
  },
  {
   "cell_type": "markdown",
   "metadata": {},
   "source": [
    "p) Do the task above once more, but this time without the use of indices."
   ]
  },
  {
   "attachments": {},
   "cell_type": "markdown",
   "metadata": {},
   "source": [
    "<b> Lecturer´s comment: </b> You are using very clear variable names, this makes your code very readable. Well done ! As a side note, you could `zip` directly in the loop definition:\n",
    "`for name, info in zip(names, short_long):`"
   ]
  },
  {
   "cell_type": "code",
   "execution_count": 25,
   "metadata": {},
   "outputs": [
    {
     "name": "stdout",
     "output_type": "stream",
     "text": [
      "The name Tesco is a long name\n",
      "The name Forex is a long name\n",
      "The name Alonzo is a long name\n",
      "The name Zeno is a short name\n"
     ]
    }
   ],
   "source": [
    "for name, info in zip(names, short_long):\n",
    "    print(f'The name {name} is a {info} name')"
   ]
  },
  {
   "cell_type": "markdown",
   "metadata": {},
   "source": [
    "[Hint: Use the `zip` function.]<br>\n",
    "[Literature: zip usage with dictionary is found in LP part II chapter 8 and dictionary comprehensions in the same place.]"
   ]
  },
  {
   "cell_type": "markdown",
   "metadata": {},
   "source": [
    "q) Among the built-in datatypes, it is also worth mentioning the tuple. Construct two tuples, `one` containing the number one and `two` containing the number 1 and the number 2. What happens if you add them? Name some method that a list with similar content (such as `two_list` below) would support, that `two` doesn't and explain why this makes sense."
   ]
  },
  {
   "cell_type": "code",
   "execution_count": 26,
   "metadata": {},
   "outputs": [
    {
     "name": "stdout",
     "output_type": "stream",
     "text": [
      "(1, 1, 2)\n",
      "False\n",
      "False\n",
      "[1, 1, 2]\n",
      "False\n",
      "False\n"
     ]
    },
    {
     "data": {
      "text/plain": [
       "\"The two tuple contact together and generate a new tuple if we add them. The result of list is the same.\\nMethods in 'list' like 'append', 'insert' can't apply to 'tuple' because 'tuple' is immutable.\""
      ]
     },
     "execution_count": 26,
     "metadata": {},
     "output_type": "execute_result"
    }
   ],
   "source": [
    "one = (1,)\n",
    "two = (1, 2)\n",
    "sum = one + two\n",
    "print(sum)\n",
    "print(sum is one)\n",
    "print(sum is two)\n",
    "\n",
    "one_list = [1]\n",
    "two_list = [1, 2]\n",
    "sum_list = one_list + two_list\n",
    "print(sum_list)\n",
    "print(sum_list is one_list)\n",
    "print(sum_list is two_list)\n",
    "\n",
    "'''The two tuple contact together and generate a new tuple if we add them. The result of list is the same.\n",
    "Methods in 'list' like 'append', 'insert' can't apply to 'tuple' because 'tuple' is immutable.'''"
   ]
  },
  {
   "cell_type": "markdown",
   "metadata": {},
   "source": [
    "### 3. Conditionals, logic and while loops"
   ]
  },
  {
   "cell_type": "markdown",
   "metadata": {},
   "source": [
    "a) Below we have an integer called `n`. Write code that prints \"It's even!\" if it is even, and \"It's odd!\" if it's not."
   ]
  },
  {
   "cell_type": "markdown",
   "metadata": {},
   "source": [
    "<b> Lecturer´s comment: </b> The answer provided is correct. However, not that writing your condition directly in the f-string is not a good practice as it makes your code harder to read."
   ]
  },
  {
   "cell_type": "code",
   "execution_count": 1,
   "metadata": {},
   "outputs": [
    {
     "name": "stdout",
     "output_type": "stream",
     "text": [
      "It's odd\n"
     ]
    }
   ],
   "source": [
    "n = 5 # Change this to other values and run your code to test.\n",
    "n_type_str = \"even\" if (n % 2) == 0 else \"odd\"\n",
    "print(f\"It's {n_type_str}\")"
   ]
  },
  {
   "cell_type": "markdown",
   "metadata": {},
   "source": [
    "b) Below we have the list `options`. Write code (including an `if` statement) that ensures that the boolean variable `OPTIMIZE` is True _if and only if_ the list contains the string `--optimize` (exactly like that)."
   ]
  },
  {
   "cell_type": "code",
   "execution_count": 30,
   "metadata": {},
   "outputs": [
    {
     "name": "stdout",
     "output_type": "stream",
     "text": [
      "None\n"
     ]
    }
   ],
   "source": [
    "OPTIMIZE = None       # Or some value which we are unsure of.\n",
    "options = ['--print-results', '-optimize', '-x']  # This might have been generated by a GUI or command line option\n",
    "if '--optimize' in options:\n",
    "    OPTIMIZE = True\n",
    "\n",
    "print(OPTIMIZE)"
   ]
  },
  {
   "cell_type": "markdown",
   "metadata": {},
   "source": [
    "Note: It might be tempting to use a `for` loop. In this case, we will not be needing this, and you may _not_ use it. Python has some useful built-ins to test for membership.\n",
    "\n",
    "You may use an `else`-free `if` statement if you like."
   ]
  },
  {
   "cell_type": "markdown",
   "metadata": {},
   "source": [
    "c) Redo the task above, but now consider the case where the boolean `OPTIMIZE` is True _if and only if_ the `options` list contains either `--optimize` or `-o` (or both). **You may only use one if-statement**."
   ]
  },
  {
   "cell_type": "code",
   "execution_count": 31,
   "metadata": {},
   "outputs": [
    {
     "name": "stdout",
     "output_type": "stream",
     "text": [
      "None\n"
     ]
    }
   ],
   "source": [
    "if ('--optimize' in options) or ('-o' in options):\n",
    "    OPTIMIZE = True\n",
    "\n",
    "print(OPTIMIZE)"
   ]
  },
  {
   "cell_type": "markdown",
   "metadata": {},
   "source": [
    "[Hint: Don't forget to test your code with different versions of the options list! \n",
    "\n",
    "If you find something that seems strange, you might want to check what the value of the _condition itself_ is.]\n",
    "\n",
    "[Note: This extension of the task is included as it includes a common source of hard-to-spot bugs.]"
   ]
  },
  {
   "cell_type": "markdown",
   "metadata": {},
   "source": [
    "d) Sometimes we can avoid using an `if` statement altogether. The task above is a prime example of this (and was introduced to get some practice with the `if` statement). Solve the task above in a one-liner without resorting to an `if` statement. (You may use an `if` expression, but you don't have to.)"
   ]
  },
  {
   "cell_type": "code",
   "execution_count": 32,
   "metadata": {},
   "outputs": [
    {
     "name": "stdout",
     "output_type": "stream",
     "text": [
      "False\n"
     ]
    }
   ],
   "source": [
    "OPTIMIZE = ('--optimize' in options) or ('-o' in options)\n",
    "\n",
    "print(OPTIMIZE)"
   ]
  },
  {
   "cell_type": "markdown",
   "metadata": {},
   "source": [
    "[Hint: What should the value of the condition be when you enter the then-branch of the `if`? When you enter the else-branch?]"
   ]
  },
  {
   "cell_type": "markdown",
   "metadata": {},
   "source": [
    "e) Write a `while`-loop that repeatedly generates a random number from a uniform distribution over the interval [0,1], and prints the sentence 'The random number is smaller than 0.9' on the screen until the generated random number is greater than 0.9.\n",
    "\n",
    "[Hint: Python has a `random` module with basic random number generators.]<br/>\n",
    "\n",
    "[Literature: Introduction to the Random module can be found in LP part III chapter 5 (Numeric Types). Importing modules is introduced in part I chapter 3  and covered in depth in part IV.]"
   ]
  },
  {
   "cell_type": "markdown",
   "metadata": {},
   "source": [
    "<b> Lecturer´s comment: </b> The answer provided is correct. Note however that you want to use `break`, a more pythonic way to do so is to write:"
   ]
  },
  {
   "cell_type": "code",
   "execution_count": 19,
   "metadata": {},
   "outputs": [
    {
     "name": "stdout",
     "output_type": "stream",
     "text": [
      "The random number is smaller than 0.9\n",
      "The random number is smaller than 0.9\n",
      "The random number is smaller than 0.9\n",
      "The random number is smaller than 0.9\n",
      "The random number is smaller than 0.9\n",
      "The random number is smaller than 0.9\n",
      "The random number is smaller than 0.9\n",
      "The random number is smaller than 0.9\n",
      "The random number is smaller than 0.9\n",
      "The random number is smaller than 0.9\n",
      "The random number is smaller than 0.9\n",
      "The random number is smaller than 0.9\n"
     ]
    }
   ],
   "source": [
    "import random\n",
    "\n",
    "while random.uniform(0,1) < 0.9:\n",
    "    print(f'The random number is smaller than 0.9')\n"
   ]
  },
  {
   "cell_type": "markdown",
   "metadata": {},
   "source": [
    "### 4. Dictionaries\n",
    "\n",
    "Dictionaries are association tables, or maps, connecting a key to a value. For instance a name represented by a string as key with a number representing some attribute as a value. Dictionaries can themselves be values in other dictionaries, creating nested or hierarchical data structures. This is similar to named lists in R but keys in Python dictionaries can be more complex than just strings.\n",
    "\n",
    "[Literature: Dictionaries are found in LP section II chapter 4.]"
   ]
  },
  {
   "cell_type": "markdown",
   "metadata": {},
   "source": [
    "a) Make a dictionary named `amadeus` containing the information that the student Amadeus is a male, scored 8 on the Algebra exam and 13 on the History exam. The dictionary should NOT include a name entry."
   ]
  },
  {
   "cell_type": "code",
   "execution_count": 36,
   "metadata": {},
   "outputs": [],
   "source": [
    "amadeus = {'Gender': 'Male', 'Algebra': 9, 'History': 13}"
   ]
  },
  {
   "cell_type": "markdown",
   "metadata": {},
   "source": [
    "b) Make three more dictionaries, one for each of the students: Rosa, Mona and Ludwig, from the information in the following table:\n",
    "\n",
    "| Name          | Gender        | Algebra       | History | \n",
    "| :-----------: | :-----------: |:-------------:| :------:|\n",
    "| Rosa          | Female        | 19            | 22      |\n",
    "| Mona          | Female        | 6             | 27      |\n",
    "| Ludwig        | Other         | 12            | 18      |"
   ]
  },
  {
   "cell_type": "code",
   "execution_count": 37,
   "metadata": {},
   "outputs": [],
   "source": [
    "rosa   = {'Gender': 'Female', 'Algebra': 19, 'History': 22}\n",
    "mona   = {'Gender': 'Female', 'Algebra': 6,  'History': 27}\n",
    "ludwig = {'Gender': 'Other',  'Algebra': 12, 'History': 18}"
   ]
  },
  {
   "cell_type": "markdown",
   "metadata": {},
   "source": [
    "c) Combine the four students in a dictionary named `students` such that a user of your dictionary can type `students['Amadeus']['History']` to retrive Amadeus score on the history test.\n",
    "\n",
    "[HINT: The values in a dictionary can be dictionaries.]"
   ]
  },
  {
   "cell_type": "code",
   "execution_count": 38,
   "metadata": {},
   "outputs": [
    {
     "name": "stdout",
     "output_type": "stream",
     "text": [
      "13\n"
     ]
    }
   ],
   "source": [
    "students = {'Amadeus': amadeus, 'Rosa': rosa, 'Mona': mona, 'Ludwig': ludwig}\n",
    "\n",
    "print(students['Amadeus']['History'])"
   ]
  },
  {
   "cell_type": "markdown",
   "metadata": {},
   "source": [
    "d) Add the new male student Karl to the dictionary `students`. Karl scored 14 on the Algebra exam and 10 on the History exam."
   ]
  },
  {
   "cell_type": "code",
   "execution_count": 39,
   "metadata": {},
   "outputs": [
    {
     "name": "stdout",
     "output_type": "stream",
     "text": [
      "10\n"
     ]
    }
   ],
   "source": [
    "students['Karl'] = {'Gender': 'Male', 'Algebra': 14, 'History': 10}\n",
    "\n",
    "print(students['Karl']['History'])"
   ]
  },
  {
   "cell_type": "markdown",
   "metadata": {},
   "source": [
    "e) Use a `for`-loop to print out the names and scores of all students on the screen. The output should look like something this (the order of the students doesn't matter):\n",
    "\n",
    "> `Student Amadeus scored 8 on the Algebra exam and 13 on the History exam`<br>\n",
    "> `Student Rosa scored 19 on the Algebra exam and 22 on the History exam`<br>\n",
    "> ...\n",
    "\n",
    "[Hint: Dictionaries are iterables, also, check out the `items` function for dictionaries.]"
   ]
  },
  {
   "cell_type": "code",
   "execution_count": 40,
   "metadata": {},
   "outputs": [
    {
     "name": "stdout",
     "output_type": "stream",
     "text": [
      "Student Amadeus scored 9 on the Algebra exam and 13 on the History exam\n",
      "Student Rosa scored 19 on the Algebra exam and 22 on the History exam\n",
      "Student Mona scored 6 on the Algebra exam and 27 on the History exam\n",
      "Student Ludwig scored 12 on the Algebra exam and 18 on the History exam\n",
      "Student Karl scored 14 on the Algebra exam and 10 on the History exam\n"
     ]
    }
   ],
   "source": [
    "for name, info in students.items():\n",
    "    print(f\"Student {name} scored {info['Algebra']} on the Algebra exam and {info['History']} on the History exam\")"
   ]
  },
  {
   "cell_type": "markdown",
   "metadata": {},
   "source": [
    "f) Use a dict comprehension and the lists `names` and `short_long` from assignment 2 to create a dictionary of names and wether they are short or long. The result should be a dictionary equivalent to {'Forex':'long', 'Tesco':'long', ...}."
   ]
  },
  {
   "cell_type": "markdown",
   "metadata": {},
   "source": [
    "<b> Lecturer´s comment: </b> Your variable names are a bit too generic. You could have use `name` and `length` for example."
   ]
  },
  {
   "cell_type": "code",
   "execution_count": 20,
   "metadata": {},
   "outputs": [
    {
     "name": "stdout",
     "output_type": "stream",
     "text": [
      "{'Tesco': 'long', 'Forex': 'long', 'Alonzo': 'long', 'Zeno': 'short'}\n"
     ]
    }
   ],
   "source": [
    "print({name:length for name,length in zip(names, short_long)})"
   ]
  },
  {
   "cell_type": "markdown",
   "metadata": {},
   "source": [
    "### 5. Introductory file I/O\n",
    "\n",
    "File I/O in Python is a bit more general than what most R programmers are used to. In R, reading and writing files are usually performed using file type specific functions such as `read.csv` while in Python we usually start with reading standard text files. However, there are lots of specialized functions for different file types in Python as well, especially when using the __[pandas](http://pandas.pydata.org/)__ library which is built around a datatype similar to R DataFrames. Pandas will not be covered in this course though.\n",
    "\n",
    "[Literature: Files are introduced in LP part II chapter 4 and chapter 9.]"
   ]
  },
  {
   "cell_type": "markdown",
   "metadata": {},
   "source": [
    "The file `students.tsv` contains tab separated values corresponding to the students in previous assigments.\n",
    "\n",
    "a) Iterate over the file, line by line, and print each line. Do NOT use a CSV reader.\n",
    "\n",
    "The result should be something like this:\n",
    "\n",
    "> `Amadeus\tMale\t8\t13`<br>\n",
    "> `Rosa\tFemale\t19\t22`<br>\n",
    "> ...\n",
    "\n",
    "The file should be closed when reading is complete.\n",
    "\n",
    "[Hint: Files are iterable in Python.]"
   ]
  },
  {
   "cell_type": "code",
   "execution_count": 44,
   "metadata": {},
   "outputs": [
    {
     "name": "stdout",
     "output_type": "stream",
     "text": [
      "Amadeus\tMale\t8\t13\n",
      "\n",
      "Rosa\tFemale\t19\t22\n",
      "\n",
      "Mona\tFemale\t6\t27\n",
      "\n",
      "Ludwig\tOther\t12\t18\n",
      "\n",
      "Karl\tMale\t14\t10\n"
     ]
    }
   ],
   "source": [
    "file = open('students.tsv')\n",
    "for line in file.readlines():\n",
    "    print(line)\n",
    "file.close()"
   ]
  },
  {
   "cell_type": "markdown",
   "metadata": {},
   "source": [
    "b) Working with many files can be problematic, especially when you forget to close files or errors interrupt programs before files are closed. Python thus has a special `with` statement which automatically closes files for you, even if an error occurs. Redo the assignment above using the `with` statement.\n",
    "\n",
    "[Literature: With is introduced in LP part II chapter 9 page 294.]"
   ]
  },
  {
   "cell_type": "code",
   "execution_count": 45,
   "metadata": {},
   "outputs": [
    {
     "name": "stdout",
     "output_type": "stream",
     "text": [
      "Amadeus\tMale\t8\t13\n",
      "\n",
      "Rosa\tFemale\t19\t22\n",
      "\n",
      "Mona\tFemale\t6\t27\n",
      "\n",
      "Ludwig\tOther\t12\t18\n",
      "\n",
      "Karl\tMale\t14\t10\n"
     ]
    }
   ],
   "source": [
    "with open(\"students.tsv\") as file:\n",
    "    print('\\n'.join(file.readlines()))"
   ]
  },
  {
   "cell_type": "markdown",
   "metadata": {},
   "source": [
    "c) If you are going to open text files that might have different character encodings, a useful habit might be to use the [`codecs`](https://docs.python.org/3/library/codecs.html) module. Redo the task above, but using codecs.open. You might want to find out the character encoding of the file (for instance in an edit"
   ]
  },
  {
   "cell_type": "code",
   "execution_count": 46,
   "metadata": {},
   "outputs": [
    {
     "name": "stdout",
     "output_type": "stream",
     "text": [
      "Amadeus\tMale\t8\t13\n",
      "\n",
      "Rosa\tFemale\t19\t22\n",
      "\n",
      "Mona\tFemale\t6\t27\n",
      "\n",
      "Ludwig\tOther\t12\t18\n",
      "\n",
      "Karl\tMale\t14\t10\n"
     ]
    }
   ],
   "source": [
    "import codecs\n",
    "\n",
    "with codecs.open(\"students.tsv\", encoding = 'UTF-8') as file:\n",
    "    print('\\n'.join(file.readlines()))"
   ]
  },
  {
   "cell_type": "markdown",
   "metadata": {},
   "source": [
    "d) Recreate the dictionary from assignment the previous assignment by reading the data from the file. Using a dedicated csv-reader is not permitted."
   ]
  },
  {
   "cell_type": "markdown",
   "metadata": {},
   "source": [
    "<b> Lecturer's comment : </b> Your use of multiple assignment + clear variable names makes your code very readable and very pythonic. Excellent job!"
   ]
  },
  {
   "cell_type": "code",
   "execution_count": 49,
   "metadata": {},
   "outputs": [
    {
     "name": "stdout",
     "output_type": "stream",
     "text": [
      "{'Amadeus': {'Name': 'Amadeus', 'Gender': 'Male', 'Algebra': '8', 'History': '13'}, 'Rosa': {'Name': 'Rosa', 'Gender': 'Female', 'Algebra': '19', 'History': '22'}, 'Mona': {'Name': 'Mona', 'Gender': 'Female', 'Algebra': '6', 'History': '27'}, 'Ludwig': {'Name': 'Ludwig', 'Gender': 'Other', 'Algebra': '12', 'History': '18'}, 'Karl': {'Name': 'Karl', 'Gender': 'Male', 'Algebra': '14', 'History': '10'}}\n"
     ]
    }
   ],
   "source": [
    "tsv_dict = {}\n",
    "with open(\"students.tsv\") as file:\n",
    "    for line in file.readlines():\n",
    "        name, gender, algebra, history = line.split()\n",
    "        tsv_dict[name] = {\n",
    "            'Name': name,\n",
    "            'Gender': gender,\n",
    "            'Algebra': algebra,\n",
    "            \"History\": history\n",
    "        }\n",
    "\n",
    "print(tsv_dict)"
   ]
  },
  {
   "cell_type": "markdown",
   "metadata": {},
   "source": [
    "e) Using the dictionary above, write sentences from task 4e above to a new file, called `students.txt`."
   ]
  },
  {
   "cell_type": "code",
   "execution_count": 50,
   "metadata": {},
   "outputs": [],
   "source": [
    "with open('student.txt', 'w') as output:\n",
    "    for name, info in tsv_dict.items():\n",
    "        output.writelines(f\"Student {name} scored {info['Algebra']} on the Algebra exam and {info['History']} on the History exam\\n\")"
   ]
  },
  {
   "cell_type": "code",
   "execution_count": null,
   "metadata": {},
   "outputs": [],
   "source": []
  }
 ],
 "metadata": {
  "kernelspec": {
   "display_name": "Python 3 (ipykernel)",
   "language": "python",
   "name": "python3"
  },
  "language_info": {
   "codemirror_mode": {
    "name": "ipython",
    "version": 3
   },
   "file_extension": ".py",
   "mimetype": "text/x-python",
   "name": "python",
   "nbconvert_exporter": "python",
   "pygments_lexer": "ipython3",
   "version": "3.10.8"
  },
  "vscode": {
   "interpreter": {
    "hash": "b0fa6594d8f4cbf19f97940f81e996739fb7646882a419484c72d19e05852a7e"
   }
  }
 },
 "nbformat": 4,
 "nbformat_minor": 2
}
